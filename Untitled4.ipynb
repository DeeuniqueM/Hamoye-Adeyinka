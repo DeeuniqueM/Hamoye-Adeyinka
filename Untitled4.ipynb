{
 "cells": [
  {
   "cell_type": "code",
   "execution_count": 1,
   "id": "aec2faef",
   "metadata": {},
   "outputs": [],
   "source": [
    "import pandas as pd"
   ]
  },
  {
   "cell_type": "code",
   "execution_count": 2,
   "id": "fe468a46",
   "metadata": {},
   "outputs": [
    {
     "name": "stderr",
     "output_type": "stream",
     "text": [
      "Matplotlib is building the font cache; this may take a moment.\n"
     ]
    }
   ],
   "source": [
    "import matplotlib.pyplot as plt"
   ]
  },
  {
   "cell_type": "code",
   "execution_count": 4,
   "id": "3bda04e1",
   "metadata": {},
   "outputs": [],
   "source": [
    "import numpy as np"
   ]
  },
  {
   "cell_type": "code",
   "execution_count": 10,
   "id": "68930f9e",
   "metadata": {},
   "outputs": [],
   "source": [
    "csv_df = pd.read_csv('fao_data.csv',encoding='latin-1')"
   ]
  },
  {
   "cell_type": "code",
   "execution_count": 11,
   "id": "dd583e56",
   "metadata": {},
   "outputs": [],
   "source": [
    "csv_df.to_csv( 'fao_data.csv' , index= False )"
   ]
  },
  {
   "cell_type": "code",
   "execution_count": 14,
   "id": "59684d25",
   "metadata": {},
   "outputs": [],
   "source": [
    "csv='fao_data'"
   ]
  },
  {
   "cell_type": "code",
   "execution_count": 3,
   "id": "b88d89bb",
   "metadata": {},
   "outputs": [
    {
     "ename": "NameError",
     "evalue": "name 'fao_data' is not defined",
     "output_type": "error",
     "traceback": [
      "\u001b[1;31m---------------------------------------------------------------------------\u001b[0m",
      "\u001b[1;31mNameError\u001b[0m                                 Traceback (most recent call last)",
      "Input \u001b[1;32mIn [3]\u001b[0m, in \u001b[0;36m<cell line: 1>\u001b[1;34m()\u001b[0m\n\u001b[1;32m----> 1\u001b[0m \u001b[43mfao_data\u001b[49m\u001b[38;5;241m.\u001b[39mdescribe(include\u001b[38;5;241m=\u001b[39m \u001b[38;5;124m'\u001b[39m\u001b[38;5;124mall\u001b[39m\u001b[38;5;124m'\u001b[39m )\n",
      "\u001b[1;31mNameError\u001b[0m: name 'fao_data' is not defined"
     ]
    }
   ],
   "source": [
    "fao_data.describe(include= 'all' )"
   ]
  },
  {
   "cell_type": "code",
   "execution_count": 1,
   "id": "cd9ad177",
   "metadata": {},
   "outputs": [
    {
     "ename": "NameError",
     "evalue": "name 'pd' is not defined",
     "output_type": "error",
     "traceback": [
      "\u001b[1;31m---------------------------------------------------------------------------\u001b[0m",
      "\u001b[1;31mNameError\u001b[0m                                 Traceback (most recent call last)",
      "Input \u001b[1;32mIn [1]\u001b[0m, in \u001b[0;36m<cell line: 1>\u001b[1;34m()\u001b[0m\n\u001b[1;32m----> 1\u001b[0m html_df \u001b[38;5;241m=\u001b[39m \u001b[43mpd\u001b[49m\u001b[38;5;241m.\u001b[39mread_html( \u001b[38;5;124m'\u001b[39m\u001b[38;5;124m http://www.webpage.com/sampledata.html \u001b[39m\u001b[38;5;124m'\u001b[39m )\n",
      "\u001b[1;31mNameError\u001b[0m: name 'pd' is not defined"
     ]
    }
   ],
   "source": [
    "html_df = pd.read_html( ' http://www.webpage.com/sampledata.html ' )"
   ]
  },
  {
   "cell_type": "code",
   "execution_count": null,
   "id": "bad19d37",
   "metadata": {},
   "outputs": [],
   "source": [
    "html_df.to_html( 'sample_file.html' )"
   ]
  },
  {
   "cell_type": "code",
   "execution_count": 2,
   "id": "00038f0f",
   "metadata": {},
   "outputs": [
    {
     "ename": "SyntaxError",
     "evalue": "EOL while scanning string literal (2392680476.py, line 1)",
     "output_type": "error",
     "traceback": [
      "\u001b[1;36m  Input \u001b[1;32mIn [2]\u001b[1;36m\u001b[0m\n\u001b[1;33m    url= 'https://github.com/WalePhenomenon/climate_change/blob/master/fuel_ferc1.csv?ra\u001b[0m\n\u001b[1;37m                                                                                        ^\u001b[0m\n\u001b[1;31mSyntaxError\u001b[0m\u001b[1;31m:\u001b[0m EOL while scanning string literal\n"
     ]
    }
   ],
   "source": [
    "url= 'https://github.com/WalePhenomenon/climate_change/blob/master/fuel_ferc1.csv?ra\n",
    "w=true'"
   ]
  },
  {
   "cell_type": "code",
   "execution_count": null,
   "id": "04b2bdf4",
   "metadata": {},
   "outputs": [],
   "source": []
  }
 ],
 "metadata": {
  "kernelspec": {
   "display_name": "Python 3 (ipykernel)",
   "language": "python",
   "name": "python3"
  },
  "language_info": {
   "codemirror_mode": {
    "name": "ipython",
    "version": 3
   },
   "file_extension": ".py",
   "mimetype": "text/x-python",
   "name": "python",
   "nbconvert_exporter": "python",
   "pygments_lexer": "ipython3",
   "version": "3.9.12"
  }
 },
 "nbformat": 4,
 "nbformat_minor": 5
}
